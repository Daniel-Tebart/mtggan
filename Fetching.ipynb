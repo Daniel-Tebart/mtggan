{
 "cells": [
  {
   "cell_type": "markdown",
   "metadata": {},
   "source": [
    "# Fetching:\n",
    "Here we will pull our data of mtg art images"
   ]
  },
  {
   "cell_type": "code",
   "execution_count": 3,
   "metadata": {},
   "outputs": [
    {
     "name": "stderr",
     "output_type": "stream",
     "text": [
      "/home/daniel/anaconda3/lib/python3.8/site-packages/IPython/core/interactiveshell.py:3071: DtypeWarning: Columns (12,16,19,40) have mixed types.Specify dtype option on import or set low_memory=False.\n",
      "  has_raised = await self.run_ast_nodes(code_ast.body, cell_name,\n"
     ]
    }
   ],
   "source": [
    "import pandas as pd\n",
    "\n",
    "data = pd.read_csv('data/cards/cards.csv')"
   ]
  },
  {
   "cell_type": "code",
   "execution_count": 7,
   "metadata": {},
   "outputs": [
    {
     "data": {
      "text/plain": [
       "0        46184f97-d5c9-4a98-9fd9-e19057ce9b7e\n",
       "1        b62ca800-ec24-476e-b56f-834eef9622a9\n",
       "2        f31cf014-7ac9-428b-9ce9-8ba5ebfdd252\n",
       "3        20f18447-2853-469b-b3b3-20d6bcafa6e7\n",
       "4        bf92ae01-9d1e-4b41-b068-096648daadf6\n",
       "                         ...                 \n",
       "53168    9a8b0fd3-ae3e-41eb-b31b-d941b84b6c64\n",
       "53169    c18b11f0-19cc-4169-84e0-fbb038a5c848\n",
       "53170    134ff41d-1645-4d3a-94b6-e13a30dedb8e\n",
       "53171    f12d2c01-0ef2-40e6-8c7d-8512e2c8c074\n",
       "53172    b3aeb7fb-8618-4595-84b4-20881b824b3e\n",
       "Name: scryfallId, Length: 53173, dtype: object"
      ]
     },
     "execution_count": 7,
     "metadata": {},
     "output_type": "execute_result"
    }
   ],
   "source": [
    "scryfall_idx = data['scryfallId']\n",
    "scryfall_idx"
   ]
  },
  {
   "cell_type": "markdown",
   "metadata": {},
   "source": [
    "# Getting a single image\n",
    "We will use the scryfall id's in order to get scryfall card json which contain a link to the art crop image. We need to incorporate a 50-100 milliseconds delay between get request to avoid overloading the scryfall servers."
   ]
  },
  {
   "cell_type": "code",
   "execution_count": 15,
   "metadata": {},
   "outputs": [],
   "source": [
    "import requests\n",
    "import urllib.request\n",
    "\n",
    "url = \"https://api.scryfall.com/cards/e9d5aee0-5963-41db-a22b-cfea40a967a3\"\n",
    "\n",
    "r = requests.get(url)\n",
    "data = r.json()\n",
    "art_uri = data['image_uris']['art_crop']"
   ]
  },
  {
   "cell_type": "code",
   "execution_count": 18,
   "metadata": {},
   "outputs": [
    {
     "data": {
      "text/plain": [
       "('data/art_images/00000001.jpg', <http.client.HTTPMessage at 0x7fa69acd3d00>)"
      ]
     },
     "execution_count": 18,
     "metadata": {},
     "output_type": "execute_result"
    }
   ],
   "source": [
    "urllib.request.urlretrieve(art_uri, \"data/art_images/00000001.jpg\")"
   ]
  },
  {
   "cell_type": "code",
   "execution_count": 14,
   "metadata": {},
   "outputs": [
    {
     "data": {
      "text/plain": [
       "'https://img.scryfall.com/cards/art_crop/front/e/9/e9d5aee0-5963-41db-a22b-cfea40a967a3.jpg?1568003829'"
      ]
     },
     "execution_count": 14,
     "metadata": {},
     "output_type": "execute_result"
    }
   ],
   "source": []
  },
  {
   "cell_type": "code",
   "execution_count": null,
   "metadata": {},
   "outputs": [],
   "source": []
  }
 ],
 "metadata": {
  "kernelspec": {
   "display_name": "Python 3",
   "language": "python",
   "name": "python3"
  },
  "language_info": {
   "codemirror_mode": {
    "name": "ipython",
    "version": 3
   },
   "file_extension": ".py",
   "mimetype": "text/x-python",
   "name": "python",
   "nbconvert_exporter": "python",
   "pygments_lexer": "ipython3",
   "version": "3.8.3"
  }
 },
 "nbformat": 4,
 "nbformat_minor": 4
}
